{
 "cells": [
  {
   "cell_type": "markdown",
   "id": "b15b0a41",
   "metadata": {},
   "source": [
    "## Embedding Cluster Visualization via t-SNE"
   ]
  },
  {
   "cell_type": "markdown",
   "id": "cd6b755c",
   "metadata": {},
   "source": [
    "__Part 1: Embedding Cluster Visualization via t-SNE__\n",
    "\n",
    "In the first part of this project, we explore the structure and semantic relationships of words in the dataset through visualization. We first train a Word2Vec model on the corpus of children's texts, which generates high-dimensional embeddings for each word. These embeddings capture semantic and syntactic information about the words based on their usage in the text.\n",
    "\n",
    "However, these high-dimensional vectors are not directly interpretable or visualizable. To better understand the relationships between words, we use t-SNE (t-Distributed Stochastic Neighbor Embedding), a dimensionality reduction technique that is particularly well-suited for visualizing high-dimensional data. t-SNE reduces the word embeddings to two dimensions in a way that preserves the relative distances between points, such that words with similar meanings are positioned close to each other.\n",
    "\n",
    "Through this visualization, we can observe clusters of words that are semantically related, providing insight into the distribution and relationships of words in the children's literature corpus."
   ]
  },
  {
   "cell_type": "code",
   "execution_count": 24,
   "id": "675289c2",
   "metadata": {},
   "outputs": [
    {
     "name": "stdout",
     "output_type": "stream",
     "text": [
      "Requirement already satisfied: nltk in /Users/davidroberts/mambaforge/envs/myenv/lib/python3.11/site-packages (3.8.1)\r\n",
      "Requirement already satisfied: click in /Users/davidroberts/mambaforge/envs/myenv/lib/python3.11/site-packages (from nltk) (8.1.6)\r\n",
      "Requirement already satisfied: joblib in /Users/davidroberts/mambaforge/envs/myenv/lib/python3.11/site-packages (from nltk) (1.3.1)\r\n",
      "Requirement already satisfied: regex>=2021.8.3 in /Users/davidroberts/mambaforge/envs/myenv/lib/python3.11/site-packages (from nltk) (2023.6.3)\r\n",
      "Requirement already satisfied: tqdm in /Users/davidroberts/mambaforge/envs/myenv/lib/python3.11/site-packages (from nltk) (4.65.0)\r\n"
     ]
    }
   ],
   "source": [
    "# We need to install the nltk package for this notebook\n",
    "!pip install nltk"
   ]
  },
  {
   "cell_type": "markdown",
   "id": "c672d19d",
   "metadata": {},
   "source": [
    "__Step 1 : Data loading and preprocessing__\n",
    "\n",
    "Importing necessary libraries: The code begins by importing the necessary modules from the Natural Language Toolkit (NLTK), a popular library in Python for natural language processing tasks. The imported modules include nltk itself, brown which is a module to access the Brown Corpus, word_tokenize for tokenizing sentences into words, and stopwords for filtering out common words that typically do not carry much semantic meaning.\n",
    "Downloading necessary datasets: The nltk.download function is used to download the Brown Corpus (a collection of texts from a wide range of sources, categorized by genre) and a list of common English stopwords.\n",
    "Loading and preprocessing the data: The brown.words function is used to load the words from the 'lore' category of the Brown Corpus, which includes children's books. These words are then tokenized (split into individual words) and the stopwords are removed to create a list of tokens.\n",
    "The resulting tokens list contains the words from the children's books in the Brown Corpus, with common English stopwords removed. This list of tokens can then be used for further analysis or modeling."
   ]
  },
  {
   "cell_type": "code",
   "execution_count": 25,
   "id": "f333de25",
   "metadata": {},
   "outputs": [
    {
     "name": "stderr",
     "output_type": "stream",
     "text": [
      "[nltk_data] Downloading package brown to\n",
      "[nltk_data]     /Users/davidroberts/nltk_data...\n",
      "[nltk_data]   Package brown is already up-to-date!\n",
      "[nltk_data] Downloading package stopwords to\n",
      "[nltk_data]     /Users/davidroberts/nltk_data...\n",
      "[nltk_data]   Package stopwords is already up-to-date!\n"
     ]
    }
   ],
   "source": [
    "import nltk\n",
    "from nltk.corpus import brown\n",
    "from nltk.tokenize import word_tokenize\n",
    "from nltk.corpus import stopwords\n",
    "\n",
    "# Download the brown corpus and the list of stopwords\n",
    "nltk.download('brown')\n",
    "nltk.download('stopwords')\n",
    "\n",
    "# Get the children's texts\n",
    "childrens_text = brown.words(categories='lore')\n",
    "\n",
    "# Tokenize the text and remove stop words\n",
    "stop_words = set(stopwords.words('english'))\n",
    "tokens = [token for token in childrens_text if token not in stop_words]\n"
   ]
  },
  {
   "cell_type": "code",
   "execution_count": 26,
   "id": "1171497e",
   "metadata": {},
   "outputs": [
    {
     "name": "stdout",
     "output_type": "stream",
     "text": [
      "Requirement already satisfied: gensim in /Users/davidroberts/mambaforge/envs/myenv/lib/python3.11/site-packages (4.3.1)\n",
      "Requirement already satisfied: numpy>=1.18.5 in /Users/davidroberts/mambaforge/envs/myenv/lib/python3.11/site-packages (from gensim) (1.25.0)\n",
      "Requirement already satisfied: scipy>=1.7.0 in /Users/davidroberts/mambaforge/envs/myenv/lib/python3.11/site-packages (from gensim) (1.11.1)\n",
      "Requirement already satisfied: smart-open>=1.8.1 in /Users/davidroberts/mambaforge/envs/myenv/lib/python3.11/site-packages (from gensim) (6.3.0)\n"
     ]
    }
   ],
   "source": [
    "!pip install gensim"
   ]
  },
  {
   "cell_type": "markdown",
   "id": "7def9700",
   "metadata": {},
   "source": [
    "__Step 2 : Word2Vec model is created and trained__\n",
    "\n",
    "Creating the Word2Vec model: The Word2Vec function is used to create the model. The function is passed a list of sentences, where each sentence is a list of words. In this case, the sentences list is simply [tokens], which means the entire text is treated as one long sentence. The parameters vector_size, window, min_count, and workers control the size of the word vectors, the maximum distance between a target word and words around the target word, the minimum count of words to consider when training the model, and the number of worker threads to use in training, respectively.\n",
    "Training the model: The train method is then called on the model to train it. The method is passed the same list of sentences ([tokens]), along with the total number of sentences (model.corpus_count) and the number of epochs (iterations over the entire dataset) to train for.\n",
    "At the end of this code block, the model variable holds a trained Word2Vec model that can be used to find word vectors for the words in the text. These word vectors capture semantic and syntactic information about the words based on their usage in the text."
   ]
  },
  {
   "cell_type": "code",
   "execution_count": 27,
   "id": "1dc43bc1",
   "metadata": {},
   "outputs": [
    {
     "data": {
      "text/plain": [
       "(100000, 681600)"
      ]
     },
     "execution_count": 27,
     "metadata": {},
     "output_type": "execute_result"
    }
   ],
   "source": [
    "from gensim.models import Word2Vec\n",
    "\n",
    "# Create the Word2Vec model\n",
    "model = Word2Vec([tokens], vector_size=100, window=5, min_count=1, workers=4)\n",
    "\n",
    "# Train the model\n",
    "model.train([tokens], total_examples=model.corpus_count, epochs=10)\n"
   ]
  },
  {
   "cell_type": "markdown",
   "id": "c6037e13",
   "metadata": {},
   "source": [
    "__Step 3 : Converting the text data into vectors__\n",
    "\n",
    "1. Defining the conversion function: The text_to_vec function is defined to convert a list of words (a text) into a single vector. For each word in the input list, if the word is in the model's vocabulary (word in model.wv), its vector is retrieved (model.wv[word]). The function then returns the mean of these vectors, effectively creating a single vector that represents the entire input text. If none of the words in the input list are in the model's vocabulary, the function returns a zero vector of the same dimensionality as the word vectors in the model (np.zeros(model.vector_size)).\n",
    "\n",
    "2. Converting the texts to vectors: The text_to_vec function is applied to each text in the tokens list (which in this case represents individual words rather than full texts), resulting in a list of vectors. Each vector in this list represents a single text (word) from the original dataset."
   ]
  },
  {
   "cell_type": "code",
   "execution_count": 28,
   "id": "8a551985",
   "metadata": {},
   "outputs": [],
   "source": [
    "import numpy as np\n",
    "\n",
    "# Function to convert text to a vector\n",
    "def text_to_vec(words, model):\n",
    "    vecs = [model.wv[word] for word in words if word in model.wv]\n",
    "    if vecs:\n",
    "        return np.mean(vecs, axis=0)\n",
    "    else:\n",
    "        return np.zeros(model.vector_size)\n",
    "\n",
    "# Convert all texts to vectors\n",
    "vectors = [text_to_vec(text, model) for text in tokens]\n"
   ]
  },
  {
   "cell_type": "markdown",
   "id": "713c7ede",
   "metadata": {},
   "source": [
    "__Step 4: Applying a clustering algorithm, specifically K-Means, to the vectors obtained from the Word2Vec model__\n",
    "\n",
    "1.Creating the K-Means model: The KMeans function from the sklearn.cluster module is used to create a K-Means clustering model. The n_clusters parameter is set to 5, which means the algorithm will attempt to find 5 clusters in the data.\n",
    "\n",
    "2. Fitting the model: The fit method is called on the K-Means model to fit it to the data. The input to this method is the list of vectors, each representing a text (in this case, a word) from the original dataset.\n",
    "\n",
    "At the end of this step, the kmeans model has been trained to find 5 clusters in the word vectors. You can use the kmeans.labels_ attribute to access the cluster assignments for each word, or the kmeans.predict method to assign new words to the existing clusters."
   ]
  },
  {
   "cell_type": "code",
   "execution_count": 29,
   "id": "c870ca73",
   "metadata": {
    "scrolled": true
   },
   "outputs": [
    {
     "name": "stderr",
     "output_type": "stream",
     "text": [
      "/Users/davidroberts/mambaforge/envs/myenv/lib/python3.11/site-packages/sklearn/cluster/_kmeans.py:1412: FutureWarning: The default value of `n_init` will change from 10 to 'auto' in 1.4. Set the value of `n_init` explicitly to suppress the warning\n",
      "  super()._check_params_vs_input(X, default_n_init=10)\n"
     ]
    },
    {
     "data": {
      "text/html": [
       "<style>#sk-container-id-8 {color: black;}#sk-container-id-8 pre{padding: 0;}#sk-container-id-8 div.sk-toggleable {background-color: white;}#sk-container-id-8 label.sk-toggleable__label {cursor: pointer;display: block;width: 100%;margin-bottom: 0;padding: 0.3em;box-sizing: border-box;text-align: center;}#sk-container-id-8 label.sk-toggleable__label-arrow:before {content: \"▸\";float: left;margin-right: 0.25em;color: #696969;}#sk-container-id-8 label.sk-toggleable__label-arrow:hover:before {color: black;}#sk-container-id-8 div.sk-estimator:hover label.sk-toggleable__label-arrow:before {color: black;}#sk-container-id-8 div.sk-toggleable__content {max-height: 0;max-width: 0;overflow: hidden;text-align: left;background-color: #f0f8ff;}#sk-container-id-8 div.sk-toggleable__content pre {margin: 0.2em;color: black;border-radius: 0.25em;background-color: #f0f8ff;}#sk-container-id-8 input.sk-toggleable__control:checked~div.sk-toggleable__content {max-height: 200px;max-width: 100%;overflow: auto;}#sk-container-id-8 input.sk-toggleable__control:checked~label.sk-toggleable__label-arrow:before {content: \"▾\";}#sk-container-id-8 div.sk-estimator input.sk-toggleable__control:checked~label.sk-toggleable__label {background-color: #d4ebff;}#sk-container-id-8 div.sk-label input.sk-toggleable__control:checked~label.sk-toggleable__label {background-color: #d4ebff;}#sk-container-id-8 input.sk-hidden--visually {border: 0;clip: rect(1px 1px 1px 1px);clip: rect(1px, 1px, 1px, 1px);height: 1px;margin: -1px;overflow: hidden;padding: 0;position: absolute;width: 1px;}#sk-container-id-8 div.sk-estimator {font-family: monospace;background-color: #f0f8ff;border: 1px dotted black;border-radius: 0.25em;box-sizing: border-box;margin-bottom: 0.5em;}#sk-container-id-8 div.sk-estimator:hover {background-color: #d4ebff;}#sk-container-id-8 div.sk-parallel-item::after {content: \"\";width: 100%;border-bottom: 1px solid gray;flex-grow: 1;}#sk-container-id-8 div.sk-label:hover label.sk-toggleable__label {background-color: #d4ebff;}#sk-container-id-8 div.sk-serial::before {content: \"\";position: absolute;border-left: 1px solid gray;box-sizing: border-box;top: 0;bottom: 0;left: 50%;z-index: 0;}#sk-container-id-8 div.sk-serial {display: flex;flex-direction: column;align-items: center;background-color: white;padding-right: 0.2em;padding-left: 0.2em;position: relative;}#sk-container-id-8 div.sk-item {position: relative;z-index: 1;}#sk-container-id-8 div.sk-parallel {display: flex;align-items: stretch;justify-content: center;background-color: white;position: relative;}#sk-container-id-8 div.sk-item::before, #sk-container-id-8 div.sk-parallel-item::before {content: \"\";position: absolute;border-left: 1px solid gray;box-sizing: border-box;top: 0;bottom: 0;left: 50%;z-index: -1;}#sk-container-id-8 div.sk-parallel-item {display: flex;flex-direction: column;z-index: 1;position: relative;background-color: white;}#sk-container-id-8 div.sk-parallel-item:first-child::after {align-self: flex-end;width: 50%;}#sk-container-id-8 div.sk-parallel-item:last-child::after {align-self: flex-start;width: 50%;}#sk-container-id-8 div.sk-parallel-item:only-child::after {width: 0;}#sk-container-id-8 div.sk-dashed-wrapped {border: 1px dashed gray;margin: 0 0.4em 0.5em 0.4em;box-sizing: border-box;padding-bottom: 0.4em;background-color: white;}#sk-container-id-8 div.sk-label label {font-family: monospace;font-weight: bold;display: inline-block;line-height: 1.2em;}#sk-container-id-8 div.sk-label-container {text-align: center;}#sk-container-id-8 div.sk-container {/* jupyter's `normalize.less` sets `[hidden] { display: none; }` but bootstrap.min.css set `[hidden] { display: none !important; }` so we also need the `!important` here to be able to override the default hidden behavior on the sphinx rendered scikit-learn.org. See: https://github.com/scikit-learn/scikit-learn/issues/21755 */display: inline-block !important;position: relative;}#sk-container-id-8 div.sk-text-repr-fallback {display: none;}</style><div id=\"sk-container-id-8\" class=\"sk-top-container\"><div class=\"sk-text-repr-fallback\"><pre>KMeans(n_clusters=5)</pre><b>In a Jupyter environment, please rerun this cell to show the HTML representation or trust the notebook. <br />On GitHub, the HTML representation is unable to render, please try loading this page with nbviewer.org.</b></div><div class=\"sk-container\" hidden><div class=\"sk-item\"><div class=\"sk-estimator sk-toggleable\"><input class=\"sk-toggleable__control sk-hidden--visually\" id=\"sk-estimator-id-8\" type=\"checkbox\" checked><label for=\"sk-estimator-id-8\" class=\"sk-toggleable__label sk-toggleable__label-arrow\">KMeans</label><div class=\"sk-toggleable__content\"><pre>KMeans(n_clusters=5)</pre></div></div></div></div></div>"
      ],
      "text/plain": [
       "KMeans(n_clusters=5)"
      ]
     },
     "execution_count": 29,
     "metadata": {},
     "output_type": "execute_result"
    }
   ],
   "source": [
    "from sklearn.cluster import KMeans\n",
    "\n",
    "# Create a KMeans model\n",
    "kmeans = KMeans(n_clusters=5)\n",
    "\n",
    "# Fit the model\n",
    "kmeans.fit(vectors)\n"
   ]
  },
  {
   "cell_type": "markdown",
   "id": "27619ce1",
   "metadata": {},
   "source": [
    "__Step 5: Focused on scaling the data, performing a dimensionality reduction with t-SNE, and visualizing the resulting clusters__\n",
    "\n",
    "1. Scaling the data: The StandardScaler function from the sklearn.preprocessing module is used to standardize the feature vectors by removing the mean and scaling to unit variance. This step is often important prior to using machine learning algorithms that are sensitive to the scale of the features.\n",
    "\n",
    "2. Applying t-SNE: The t-Distributed Stochastic Neighbor Embedding (t-SNE) technique is applied to reduce the dimensionality of the data from the size of the word vectors down to 2 dimensions. The two-dimensional data is easier to visualize and can provide insights into the structure of the data.\n",
    "\n",
    "3. Predicting clusters: The predict method of the previously trained KMeans model is used to assign each of the scaled word vectors to a cluster.\n",
    "\n",
    "4. Visualizing the clusters: A scatter plot is created using matplotlib, where each point represents a word, the location of the point corresponds to its 2D t-SNE coordinates, and the color of the point indicates its cluster assignment. A color bar is also added to the plot to indicate which colors correspond to which clusters.\n",
    "\n",
    "5. At the end of this step, you have a visual representation of the word vectors and their associated clusters. This can provide insights into the relationships between different words in the corpus. Its a little hard to interpret "
   ]
  },
  {
   "cell_type": "code",
   "execution_count": 30,
   "id": "fefb5ec1",
   "metadata": {},
   "outputs": [
    {
     "data": {
      "image/png": "[encoded data removed]",
      "text/plain": [
       "<Figure size 1000x1000 with 2 Axes>"
      ]
     },
     "metadata": {},
     "output_type": "display_data"
    }
   ],
   "source": [
    "from sklearn.preprocessing import StandardScaler\n",
    "\n",
    "# Create a scaler object\n",
    "scaler = StandardScaler()\n",
    "\n",
    "# Fit the scaler to the data and transform the data\n",
    "vectors_scaled = scaler.fit_transform(vectors)\n",
    "\n",
    "# Then proceed with t-SNE and KMeans\n",
    "tsne = TSNE(n_components=2)\n",
    "vectors_2d = tsne.fit_transform(vectors_scaled)\n",
    "\n",
    "clusters = kmeans.predict(vectors_scaled)\n",
    "import matplotlib.pyplot as plt\n",
    "\n",
    "plt.figure(figsize=(10, 10))\n",
    "plt.scatter(vectors_2d[:, 0], vectors_2d[:, 1], c=clusters, cmap='viridis')\n",
    "plt.colorbar()\n",
    "plt.show()\n"
   ]
  },
  {
   "cell_type": "markdown",
   "id": "e7ef4f67",
   "metadata": {},
   "source": [
    "__Step 7 :In this step, we are redefining the function text_to_vec to represent a different concept. In the previous use of text_to_vec, we were creating a vector representation for each individual word in our corpus. Now, we are changing the function to create a vector representation for each entire document (or text) in our dataset.__\n",
    "\n",
    "Redefining the Vectorization Function: The text_to_vec function is now defined to convert an entire document (represented as a list of words) into a single vector. For each word in the document that is in the model's vocabulary, its vector is retrieved from the model. The function then returns the mean of these vectors, effectively creating a single vector that represents the entire document. If a document does not contain any words from the model's vocabulary, a zero vector of the appropriate size is returned.\n",
    "Applying the Function to All Documents: After defining this function, it is applied to each document in the tokens list to create a list of document vectors.\n",
    "The major change here is in the level of granularity we are dealing with. Initially, we were looking at the word level and now we are looking at the document level. This allows us to capture more holistic information about each document, rather than just information about individual words. This is particularly useful when we want to understand and compare the overall semantic content of different documents."
   ]
  },
  {
   "cell_type": "code",
   "execution_count": 31,
   "id": "2c507d7a",
   "metadata": {},
   "outputs": [
    {
     "name": "stderr",
     "output_type": "stream",
     "text": [
      "[nltk_data] Downloading package stopwords to\n",
      "[nltk_data]     /Users/davidroberts/nltk_data...\n",
      "[nltk_data]   Package stopwords is already up-to-date!\n"
     ]
    }
   ],
   "source": [
    "from nltk.corpus import brown\n",
    "\n",
    "# Load the texts from the 'lore' category\n",
    "texts = brown.sents(categories='lore')\n",
    "\n",
    "\n",
    "nltk.download('stopwords')\n",
    "stop_words = set(stopwords.words('english'))\n",
    "\n",
    "def preprocess(tokens):\n",
    "    return [token.lower() for token in tokens if token.isalpha() and token.lower() not in stop_words]\n",
    "\n",
    "# Preprocess each text\n",
    "texts_tokens = [preprocess(text) for text in texts]\n"
   ]
  },
  {
   "cell_type": "code",
   "execution_count": 32,
   "id": "8779065c",
   "metadata": {},
   "outputs": [
    {
     "name": "stderr",
     "output_type": "stream",
     "text": [
      "/Users/davidroberts/mambaforge/envs/myenv/lib/python3.11/site-packages/sklearn/cluster/_kmeans.py:1412: FutureWarning: The default value of `n_init` will change from 10 to 'auto' in 1.4. Set the value of `n_init` explicitly to suppress the warning\n",
      "  super()._check_params_vs_input(X, default_n_init=10)\n"
     ]
    },
    {
     "data": {
      "text/html": [
       "<style>#sk-container-id-9 {color: black;}#sk-container-id-9 pre{padding: 0;}#sk-container-id-9 div.sk-toggleable {background-color: white;}#sk-container-id-9 label.sk-toggleable__label {cursor: pointer;display: block;width: 100%;margin-bottom: 0;padding: 0.3em;box-sizing: border-box;text-align: center;}#sk-container-id-9 label.sk-toggleable__label-arrow:before {content: \"▸\";float: left;margin-right: 0.25em;color: #696969;}#sk-container-id-9 label.sk-toggleable__label-arrow:hover:before {color: black;}#sk-container-id-9 div.sk-estimator:hover label.sk-toggleable__label-arrow:before {color: black;}#sk-container-id-9 div.sk-toggleable__content {max-height: 0;max-width: 0;overflow: hidden;text-align: left;background-color: #f0f8ff;}#sk-container-id-9 div.sk-toggleable__content pre {margin: 0.2em;color: black;border-radius: 0.25em;background-color: #f0f8ff;}#sk-container-id-9 input.sk-toggleable__control:checked~div.sk-toggleable__content {max-height: 200px;max-width: 100%;overflow: auto;}#sk-container-id-9 input.sk-toggleable__control:checked~label.sk-toggleable__label-arrow:before {content: \"▾\";}#sk-container-id-9 div.sk-estimator input.sk-toggleable__control:checked~label.sk-toggleable__label {background-color: #d4ebff;}#sk-container-id-9 div.sk-label input.sk-toggleable__control:checked~label.sk-toggleable__label {background-color: #d4ebff;}#sk-container-id-9 input.sk-hidden--visually {border: 0;clip: rect(1px 1px 1px 1px);clip: rect(1px, 1px, 1px, 1px);height: 1px;margin: -1px;overflow: hidden;padding: 0;position: absolute;width: 1px;}#sk-container-id-9 div.sk-estimator {font-family: monospace;background-color: #f0f8ff;border: 1px dotted black;border-radius: 0.25em;box-sizing: border-box;margin-bottom: 0.5em;}#sk-container-id-9 div.sk-estimator:hover {background-color: #d4ebff;}#sk-container-id-9 div.sk-parallel-item::after {content: \"\";width: 100%;border-bottom: 1px solid gray;flex-grow: 1;}#sk-container-id-9 div.sk-label:hover label.sk-toggleable__label {background-color: #d4ebff;}#sk-container-id-9 div.sk-serial::before {content: \"\";position: absolute;border-left: 1px solid gray;box-sizing: border-box;top: 0;bottom: 0;left: 50%;z-index: 0;}#sk-container-id-9 div.sk-serial {display: flex;flex-direction: column;align-items: center;background-color: white;padding-right: 0.2em;padding-left: 0.2em;position: relative;}#sk-container-id-9 div.sk-item {position: relative;z-index: 1;}#sk-container-id-9 div.sk-parallel {display: flex;align-items: stretch;justify-content: center;background-color: white;position: relative;}#sk-container-id-9 div.sk-item::before, #sk-container-id-9 div.sk-parallel-item::before {content: \"\";position: absolute;border-left: 1px solid gray;box-sizing: border-box;top: 0;bottom: 0;left: 50%;z-index: -1;}#sk-container-id-9 div.sk-parallel-item {display: flex;flex-direction: column;z-index: 1;position: relative;background-color: white;}#sk-container-id-9 div.sk-parallel-item:first-child::after {align-self: flex-end;width: 50%;}#sk-container-id-9 div.sk-parallel-item:last-child::after {align-self: flex-start;width: 50%;}#sk-container-id-9 div.sk-parallel-item:only-child::after {width: 0;}#sk-container-id-9 div.sk-dashed-wrapped {border: 1px dashed gray;margin: 0 0.4em 0.5em 0.4em;box-sizing: border-box;padding-bottom: 0.4em;background-color: white;}#sk-container-id-9 div.sk-label label {font-family: monospace;font-weight: bold;display: inline-block;line-height: 1.2em;}#sk-container-id-9 div.sk-label-container {text-align: center;}#sk-container-id-9 div.sk-container {/* jupyter's `normalize.less` sets `[hidden] { display: none; }` but bootstrap.min.css set `[hidden] { display: none !important; }` so we also need the `!important` here to be able to override the default hidden behavior on the sphinx rendered scikit-learn.org. See: https://github.com/scikit-learn/scikit-learn/issues/21755 */display: inline-block !important;position: relative;}#sk-container-id-9 div.sk-text-repr-fallback {display: none;}</style><div id=\"sk-container-id-9\" class=\"sk-top-container\"><div class=\"sk-text-repr-fallback\"><pre>KMeans(n_clusters=5)</pre><b>In a Jupyter environment, please rerun this cell to show the HTML representation or trust the notebook. <br />On GitHub, the HTML representation is unable to render, please try loading this page with nbviewer.org.</b></div><div class=\"sk-container\" hidden><div class=\"sk-item\"><div class=\"sk-estimator sk-toggleable\"><input class=\"sk-toggleable__control sk-hidden--visually\" id=\"sk-estimator-id-9\" type=\"checkbox\" checked><label for=\"sk-estimator-id-9\" class=\"sk-toggleable__label sk-toggleable__label-arrow\">KMeans</label><div class=\"sk-toggleable__content\"><pre>KMeans(n_clusters=5)</pre></div></div></div></div></div>"
      ],
      "text/plain": [
       "KMeans(n_clusters=5)"
      ]
     },
     "execution_count": 32,
     "metadata": {},
     "output_type": "execute_result"
    }
   ],
   "source": [
    "import numpy as np\n",
    "from sklearn.cluster import KMeans\n",
    "\n",
    "def document_vector(text_tokens):\n",
    "    vector_list = [model.wv[token] for token in text_tokens if token in model.wv]\n",
    "    if vector_list:\n",
    "        return np.mean(vector_list, axis=0)\n",
    "    else:\n",
    "        return np.zeros(model.vector_size)  # Return a zero vector if the text contains no words from the model's vocabulary\n",
    "\n",
    "# Create a document vector for each text\n",
    "text_vectors = [document_vector(text_tokens) for text_tokens in texts_tokens]\n",
    "\n",
    "# Ensure text_vectors does not contain any None or nan values\n",
    "text_vectors = [vec for vec in text_vectors if vec is not None and not np.isnan(vec).any()]\n",
    "\n",
    "kmeans2 = KMeans(n_clusters=5)\n",
    "kmeans2.fit(text_vectors)\n",
    "\n"
   ]
  },
  {
   "cell_type": "markdown",
   "id": "705c36e0",
   "metadata": {},
   "source": [
    "__Step 8: The document vectors are visualized using t-SNE to reduce their dimensionality and color-coding the points according to their cluster assignments__\n",
    "\n",
    "Dimensionality Reduction: The t-SNE (t-Distributed Stochastic Neighbor Embedding) method is used to reduce the dimensionality of the document vectors to 2 dimensions. This allows for easy visualization of the vectors in a two-dimensional plot. t-SNE is particularly good at preserving local structures, meaning that vectors that are close together in the original high-dimensional space will be close together in the 2D space. This property makes it useful for visualizing high-dimensional data and seeing potential clusters or groups in the data.\n",
    "Cluster Assignments: The cluster assignments for each document vector (obtained from the previous k-means clustering step) are used to color-code the points in the plot. This allows us to visually distinguish different clusters of documents.\n",
    "Visualization: A scatter plot is created where each point represents a document, its location corresponds to its 2D t-SNE coordinates, and its color indicates its cluster assignment. This plot provides a visual representation of the documents and their relationships to each other, as understood by the Word2Vec model and the k-means clustering algorithm."
   ]
  },
  {
   "cell_type": "code",
   "execution_count": 35,
   "id": "45234fc7",
   "metadata": {},
   "outputs": [
    {
     "data": {
      "image/png": "[encoded data removed]",
      "text/plain": [
       "<Figure size 1000x1000 with 2 Axes>"
      ]
     },
     "metadata": {},
     "output_type": "display_data"
    }
   ],
   "source": [
    "from sklearn.manifold import TSNE\n",
    "import matplotlib.pyplot as plt\n",
    "\n",
    "# Convert the list of vectors to a numpy array\n",
    "text_vectors_np = np.array(text_vectors)\n",
    "\n",
    "# Use t-SNE to reduce dimensionality to 2\n",
    "tsne = TSNE(n_components=2)\n",
    "text_vectors_2d = tsne.fit_transform(text_vectors_np)\n",
    "\n",
    "# Get the cluster assignments for each data point\n",
    "clusters = kmeans2.labels_\n",
    "\n",
    "plt.figure(figsize=(10, 10))\n",
    "plt.scatter(text_vectors_2d[:, 0], text_vectors_2d[:, 1], c=clusters, cmap='viridis')\n",
    "plt.colorbar()\n",
    "plt.show()\n",
    "\n"
   ]
  },
  {
   "cell_type": "markdown",
   "id": "30a671e4",
   "metadata": {},
   "source": [
    "__Result__ : When the data has many clusters or groups that are well separated in the high-dimensional space, these clusters can end up being arranged in a path or \"snake\" in the two-dimensional visualization. The \"snake\" pattern doesn't necessarily have a direct interpretation in terms of the original data; it's more a result of how t-SNE works.\n",
    "\n",
    "In this specific case, the \"snake\" pattern might suggest that there are smooth transitions between different clusters of documents. This could be because the clusters represent different styles or topics in the text that gradually change from one to another. For instance, the beginning of the \"snake\" could represent texts with simpler vocabulary and sentence structure, while the end could represent texts with more complex language. However, further analysis would be needed to confirm any such interpretations. Let see if we can repeat the pattern with another text corpus from Kaggle - unfortunately the code can only run on GPU but i can confirm a similar pattern emerges "
   ]
  },
  {
   "cell_type": "code",
   "execution_count": null,
   "id": "7c028ce2",
   "metadata": {},
   "outputs": [],
   "source": [
    "# import nltk\n",
    "# from nltk.tokenize import word_tokenize\n",
    "# from nltk.corpus import stopwords\n",
    "# from gensim.models import Word2Vec\n",
    "# from sklearn.manifold import TSNE\n",
    "# import matplotlib.pyplot as plt\n",
    "# from sklearn.cluster import KMeans\n",
    "# import numpy as np\n",
    "\n",
    "# # Load new data\n",
    "# with open('cleaned_merged_fairy_tales_without_eos.txt', 'r') as f:\n",
    "#     new_data = f.read()\n",
    "\n",
    "# # Split the text into words\n",
    "# new_tokens = word_tokenize(new_data)\n",
    "\n",
    "# # Remove stop words\n",
    "# stop_words = set(stopwords.words('english'))\n",
    "# new_tokens = [token for token in new_tokens if token not in stop_words]\n",
    "\n",
    "# # Create a new Word2Vec model with the new tokens\n",
    "# new_model = Word2Vec([new_tokens], vector_size=100, window=5, min_count=1, workers=4)\n",
    "\n",
    "# # Train the new model\n",
    "# new_model.train([new_tokens], total_examples=new_model.corpus_count, epochs=10)\n",
    "\n",
    "# def document_vector(text_tokens):\n",
    "#     vector_list = [new_model.wv[token] for token in text_tokens if token in new_model.wv]\n",
    "#     if vector_list:\n",
    "#         return np.mean(vector_list, axis=0)\n",
    "#     else:\n",
    "#         return np.zeros(new_model.vector_size)  # Return a zero vector if the text contains no words from the model's vocabulary\n",
    "\n",
    "# # Create a document vector for each word\n",
    "# word_vectors = [document_vector([word]) for word in new_tokens]\n",
    "\n",
    "# # Ensure word_vectors does not contain any None or nan values\n",
    "# word_vectors = [vec for vec in word_vectors if vec is not None and not np.isnan(vec).any()]\n",
    "\n",
    "# kmeans3 = KMeans(n_clusters=5)\n",
    "# kmeans3.fit(word_vectors)\n",
    "\n",
    "# # Use t-SNE to reduce dimensionality to 2\n",
    "# tsne = TSNE(n_components=2)\n",
    "# word_vectors_2d = tsne.fit_transform(word_vectors)\n",
    "\n",
    "# # Get the cluster assignments\n",
    "# clusters = kmeans3.labels_\n",
    "\n",
    "# # Plot the results\n",
    "# plt.figure(figsize=(10, 10))\n",
    "# plt.scatter(word_vectors_2d[:, 0], word_vectors_2d[:, 1], c=clusters, cmap='viridis')\n",
    "# plt.colorbar()\n",
    "# plt.show()\n"
   ]
  },
  {
   "cell_type": "markdown",
   "id": "38f5f0b8",
   "metadata": {},
   "source": [
    "<br>"
   ]
  },
  {
   "cell_type": "markdown",
   "id": "e092b24a",
   "metadata": {},
   "source": [
    "<br>"
   ]
  },
  {
   "cell_type": "markdown",
   "id": "85af6570",
   "metadata": {},
   "source": [
    "## : Testing of new  a Embedding Algorithm vs. Flesch-Kincaid Grade algorithm"
   ]
  },
  {
   "cell_type": "markdown",
   "id": "f6d236e3",
   "metadata": {},
   "source": [
    "__Overview : Testing of new Embedding Algorithm vs. Flesch-Kincaid__\n",
    "\n",
    "In the second part of the project, we develop and evaluate a new algorithm for predicting the complexity of sentences in children's literature. Our algorithm takes as input sentence-level features derived from the word embeddings, as well as other features such as sentence length and average word length.\n",
    "\n",
    "We train a Random Forest Regressor model to predict sentence complexity based on these features. The model is trained on a subset of the data and evaluated on a separate test set.\n",
    "\n",
    "To benchmark the performance of our new algorithm, we compare its predictions to the Flesch-Kincaid grade level, an industry-standard measure of text complexity. We compute error metrics such as Mean Absolute Error (MAE), Mean Squared Error (MSE), and Root Mean Squared Error (RMSE), as well as the R-squared score, which measures how well the model's predictions explain the variance in the true complexity levels.\n",
    "\n",
    "Through this comparison, we demonstrate the effectiveness of our new algorithm in predicting text complexity, suggesting its potential utility as a tool for assessing children's literature."
   ]
  },
  {
   "cell_type": "markdown",
   "id": "a29964bc",
   "metadata": {},
   "source": [
    "This code block constitutes the main part of the machine learning pipeline for the project. Here's what it does step-by-step:\n",
    "\n",
    "1.Data Loading: The code starts by loading the Brown Corpus, which is a collection of text samples from a wide range of sources, with a total of over a million words. The corpus is downloaded using the NLTK library.\n",
    "\n",
    "2.Preprocessing: The sentences are preprocessed to convert all words to lowercase. This step helps to ensure that the same word in different cases is not treated as different words. For instance, \"The\" and \"the\" would be considered the same word after this preprocessing step.\n",
    "\n",
    "3.Data Splitting: The preprocessed sentences are split into a training set and a test set. The training set is used to train the Word2Vec model and the Random Forest Regressor, while the test set is used to evaluate the performance of the trained models.\n",
    "\n",
    "4.Word Embedding: The Word2Vec model is trained on the sentences from the training set. The trained model is then saved for later use.\n",
    "\n",
    "5.Feature Extraction: For each sentence in the training and test sets, a set of features is computed. These features include the mean word embedding for the sentence (computed using the trained Word2Vec model), the length of the sentence, and the average word length in the sentence.\n",
    "\n",
    "6.Target Variable Calculation: The Flesch-Kincaid grade level is computed for each sentence in the training and test sets. This grade level, which is a measure of the sentence's readability, serves as the target variable that the Random Forest Regressor is trained to predict.\n",
    "\n",
    "7.Model Training: The Random Forest Regressor is trained on the extracted features and target variable of the training set.\n",
    "\n",
    "8.Prediction and Evaluation: The trained Random Forest Regressor is used to predict the Flesch-Kincaid grade level for the sentences in the training and test sets. The predictions are then compared to the actual grade levels to compute the Mean Absolute Error, Mean Squared Error, and Root Mean Squared Error for the training and test sets. These metrics provide a quantitative measure of the model's performance."
   ]
  },
  {
   "cell_type": "code",
   "execution_count": 36,
   "id": "73dc57ef",
   "metadata": {},
   "outputs": [
    {
     "name": "stderr",
     "output_type": "stream",
     "text": [
      "[nltk_data] Downloading package brown to\n",
      "[nltk_data]     /Users/davidroberts/nltk_data...\n",
      "[nltk_data]   Package brown is already up-to-date!\n"
     ]
    },
    {
     "name": "stdout",
     "output_type": "stream",
     "text": [
      "Training Mean Absolute Error: 0.5570705223229859\n",
      "Training Mean Squared Error: 0.6794102915722008\n",
      "Training Root Mean Squared Error: 0.8242634843132387\n",
      "Test Mean Absolute Error: 1.525461109173352\n",
      "Test Mean Squared Error: 5.3172755622602015\n",
      "Test Root Mean Squared Error: 2.3059218465204325\n"
     ]
    }
   ],
   "source": [
    "import nltk\n",
    "from nltk.corpus import brown\n",
    "from sklearn.model_selection import train_test_split\n",
    "from gensim.models import Word2Vec\n",
    "import numpy as np\n",
    "from sklearn.ensemble import RandomForestRegressor\n",
    "from sklearn.metrics import mean_absolute_error, mean_squared_error\n",
    "from textstat import flesch_kincaid_grade\n",
    "\n",
    "nltk.download('brown')\n",
    "\n",
    "# Load Brown Corpus\n",
    "sentences = brown.sents()\n",
    "\n",
    "# Preprocess sentences\n",
    "sentences = [[word.lower() for word in sent] for sent in sentences]\n",
    "\n",
    "# Split into training and test sets\n",
    "train_sents, test_sents = train_test_split(sentences, test_size=0.2, random_state=42)\n",
    "\n",
    "# Train Word2Vec model\n",
    "model = Word2Vec(sentences=train_sents, vector_size=100, window=5, min_count=1, workers=4)\n",
    "\n",
    "# Save model for later use\n",
    "model.save(\"word2vec.model\")\n",
    "\n",
    "def sentence_features(sent, model):\n",
    "    # Get the word embeddings for each word in the sentence\n",
    "    embeddings = [model.wv[word] for word in sent if word in model.wv.key_to_index]\n",
    "    \n",
    "    if len(embeddings) == 0:\n",
    "        return np.zeros(model.vector_size + 2)\n",
    "    \n",
    "    embeddings = np.array(embeddings)\n",
    "    \n",
    "    # Calculate features\n",
    "    dispersion = np.std(embeddings, axis=0).mean()\n",
    "    length = len(sent)\n",
    "    avg_word_length = np.mean([len(word) for word in sent])\n",
    "    \n",
    "    return np.append(embeddings.mean(axis=0), [length, avg_word_length])\n",
    "\n",
    "# Calculate features for all sentences\n",
    "X_train = np.array([sentence_features(sent, model) for sent in train_sents])\n",
    "X_test = np.array([sentence_features(sent, model) for sent in test_sents])\n",
    "\n",
    "# Calculate Flesch-Kincaid grade level for each sentence in the training and test sets\n",
    "y_train = [flesch_kincaid_grade(' '.join(sent)) for sent in train_sents]\n",
    "y_test = [flesch_kincaid_grade(' '.join(sent)) for sent in test_sents]\n",
    "\n",
    "# Initialize a Random Forest Regressor\n",
    "regressor = RandomForestRegressor(n_estimators=100, random_state=42)\n",
    "\n",
    "# Train the model\n",
    "regressor.fit(X_train, y_train)\n",
    "\n",
    "# Make predictions on the training set\n",
    "y_train_pred = regressor.predict(X_train)\n",
    "\n",
    "# Compute errors for the training set\n",
    "mae_train = mean_absolute_error(y_train, y_train_pred)\n",
    "mse_train = mean_squared_error(y_train, y_train_pred)\n",
    "rmse_train = np.sqrt(mse_train)\n",
    "\n",
    "print(f\"Training Mean Absolute Error: {mae_train}\")\n",
    "print(f\"Training Mean Squared Error: {mse_train}\")\n",
    "print(f\"Training Root Mean Squared Error: {rmse_train}\")\n",
    "\n",
    "# Make predictions on the test set\n",
    "y_test_pred = regressor.predict(X_test)\n",
    "\n",
    "# Compute errors for the test set\n",
    "mae_test = mean_absolute_error(y_test, y_test_pred)\n",
    "mse_test = mean_squared_error(y_test, y_test_pred)\n",
    "rmse_test = np.sqrt(mse_test)\n",
    "\n",
    "print(f\"Test Mean Absolute Error: {mae_test}\")\n",
    "print(f\"Test Mean Squared Error: {mse_test}\")\n",
    "print(f\"Test Root Mean Squared Error: {rmse_test}\")\n"
   ]
  },
  {
   "cell_type": "code",
   "execution_count": 39,
   "id": "943bd4f6",
   "metadata": {},
   "outputs": [
    {
     "name": "stdout",
     "output_type": "stream",
     "text": [
      "R-squared for the initial training set: 0.9827554080682543\n",
      "R-squared for the initial test set: 0.8638442965841363\n"
     ]
    }
   ],
   "source": [
    "from sklearn.metrics import r2_score\n",
    "\n",
    "\n",
    "# Compute R-squared for the initial training set\n",
    "y_train_pred = regressor.predict(X_train)\n",
    "r2_train = r2_score(y_train, y_train_pred)\n",
    "\n",
    "print(f\"R-squared for the initial training set: {r2_train}\")\n",
    "\n",
    "# Compute R-squared for the initial test set\n",
    "y_test_pred = regressor.predict(X_test)\n",
    "r2_test = r2_score(y_test, y_test_pred)\n",
    "\n",
    "print(f\"R-squared for the initial test set: {r2_test}\")\n"
   ]
  },
  {
   "cell_type": "markdown",
   "id": "3aa346a9",
   "metadata": {},
   "source": [
    "This code calculates the R-squared score for the training and test datasets. The R-squared score measures the proportion of the variance in the dependent variable (sentence complexity) that is predictable from the independent variables (sentence embeddings and lengths). The model explains about 98% of the variance in sentence complexity in the training set and about 86% in the test set."
   ]
  },
  {
   "cell_type": "markdown",
   "id": "4cfdc948",
   "metadata": {},
   "source": [
    "### Now lets test on a new block of text - The Gutenberg children books corpus"
   ]
  },
  {
   "cell_type": "code",
   "execution_count": 40,
   "id": "212af62f",
   "metadata": {},
   "outputs": [
    {
     "name": "stderr",
     "output_type": "stream",
     "text": [
      "[nltk_data] Downloading package punkt to\n",
      "[nltk_data]     /Users/davidroberts/nltk_data...\n",
      "[nltk_data]   Package punkt is already up-to-date!\n"
     ]
    },
    {
     "data": {
      "text/plain": [
       "True"
      ]
     },
     "execution_count": 40,
     "metadata": {},
     "output_type": "execute_result"
    }
   ],
   "source": [
    "import nltk\n",
    "\n",
    "nltk.download('punkt')\n"
   ]
  },
  {
   "cell_type": "code",
   "execution_count": 41,
   "id": "7b7c530e",
   "metadata": {},
   "outputs": [
    {
     "name": "stdout",
     "output_type": "stream",
     "text": [
      "New Data Mean Absolute Error: 3.0502376570229193\n",
      "New Data Mean Squared Error: 23.455731204222083\n",
      "New Data Root Mean Squared Error: 4.843111727414729\n"
     ]
    }
   ],
   "source": [
    "from nltk.tokenize import sent_tokenize\n",
    "\n",
    "# Load new data\n",
    "with open('cleaned_merged_fairy_tales_without_eos.txt', 'r') as f:\n",
    "    new_data = f.read()\n",
    "\n",
    "# Split the text into sentences\n",
    "new_sents_text = sent_tokenize(new_data)\n",
    "\n",
    "# Preprocess new data\n",
    "new_sents = [sent.split() for sent in new_sents_text]  # Assuming words are space-separated\n",
    "\n",
    "# Calculate features for new sentences\n",
    "X_new = np.array([sentence_features(sent, model) for sent in new_sents])\n",
    "\n",
    "# Calculate Flesch-Kincaid grade level for each sentence in the new data\n",
    "y_new = [flesch_kincaid_grade(sent) for sent in new_sents_text]\n",
    "\n",
    "# Make predictions on the new data\n",
    "y_new_pred = regressor.predict(X_new)\n",
    "\n",
    "# Compute errors for the new data\n",
    "mae_new = mean_absolute_error(y_new, y_new_pred)\n",
    "mse_new = mean_squared_error(y_new, y_new_pred)\n",
    "rmse_new = np.sqrt(mse_new)\n",
    "\n",
    "print(f\"New Data Mean Absolute Error: {mae_new}\")\n",
    "print(f\"New Data Mean Squared Error: {mse_new}\")\n",
    "print(f\"New Data Root Mean Squared Error: {rmse_new}\")\n"
   ]
  },
  {
   "cell_type": "markdown",
   "id": "f0f44058",
   "metadata": {},
   "source": [
    "The higher error rates when predicting sentence complexity for the new data set compared to the original data set could be due to several reasons:\n",
    "\n",
    "Different Distributions: The new data set may have a different distribution of sentence complexity levels compared to the original data set. This can cause the model, which has learned the distribution of the original data set, to perform poorly on the new data.\n",
    "Different Vocabulary: The new data set may contain words that were not present in the original data set. Since the model's word embeddings are only trained on the original data set, it may not be able to accurately represent these new words, leading to less accurate predictions.\n",
    "Model Overfitting: The model may have overfitted to the specific characteristics of the original data set, causing it to perform poorly when applied to new data. This is often indicated by a large difference between training and test error rates in the original model, which seems to be the case here."
   ]
  },
  {
   "cell_type": "markdown",
   "id": "fecf73e2",
   "metadata": {},
   "source": [
    "Lets check the integrity of the data \n",
    "\n",
    "This code block is similar to the one that trained the model on the original data set, but this time it's using a new data set, 'cleaned_merged_fairy_tales_without_eos.txt'.\n",
    "\n",
    "This time, the new dataset is split into training and test sets, and a Word2Vec model is trained on the training set. Sentence-level features are then extracted from the sentences in both the training and test sets using the newly trained Word2Vec model, and a Random Forest Regressor model is fitted to predict sentence complexity.\n",
    "\n",
    "The error rates for the training and test sets are then calculated. These are the Mean Absolute Error (MAE), Mean Squared Error (MSE), and Root Mean Squared Error (RMSE), which are common metrics for evaluating regression models.\n",
    "\n",
    "As seen below , the error rates for the new data set are very low, indicating that the model is fitting the new data well. This is a good sign as it suggests the model is able to generalize well to new data. However, it's important to be cautious and make sure the model is not overfitting the training data.\n",
    "\n",
    "This exercise shows that the model's performance can vary depending on the specific characteristics of the data it's applied to, emphasizing the importance of understanding the distribution and quality of the data when evaluating a model's performance."
   ]
  },
  {
   "cell_type": "code",
   "execution_count": 42,
   "id": "45594804",
   "metadata": {},
   "outputs": [
    {
     "name": "stdout",
     "output_type": "stream",
     "text": [
      "New Training Mean Absolute Error: 0.5680435275582247\n",
      "New Training Mean Squared Error: 0.8036018978555934\n",
      "New Training Root Mean Squared Error: 0.8964384517944294\n",
      "New Test Mean Absolute Error: 1.6071419644034282\n",
      "New Test Mean Squared Error: 8.041977882742259\n",
      "New Test Root Mean Squared Error: 2.8358381270344504\n"
     ]
    }
   ],
   "source": [
    "from nltk.tokenize import sent_tokenize\n",
    "from sklearn.model_selection import train_test_split\n",
    "from gensim.models import Word2Vec\n",
    "import numpy as np\n",
    "from sklearn.ensemble import RandomForestRegressor\n",
    "from sklearn.metrics import mean_absolute_error, mean_squared_error\n",
    "from textstat import flesch_kincaid_grade\n",
    "\n",
    "# Load new data\n",
    "with open('cleaned_merged_fairy_tales_without_eos.txt', 'r') as f:\n",
    "    new_data = f.read()\n",
    "\n",
    "# Split the text into sentences\n",
    "new_sents_text = sent_tokenize(new_data)\n",
    "\n",
    "# Preprocess sentences\n",
    "new_sents = [[word.lower() for word in sent.split()] for sent in new_sents_text]\n",
    "\n",
    "# Split into training and test sets\n",
    "new_train_sents, new_test_sents = train_test_split(new_sents, test_size=0.2, random_state=42)\n",
    "\n",
    "# Train Word2Vec model on the new training set\n",
    "new_model = Word2Vec(sentences=new_train_sents, vector_size=100, window=5, min_count=1, workers=4)\n",
    "\n",
    "# Save model for later use\n",
    "new_model.save(\"word2vec_new.model\")\n",
    "\n",
    "def sentence_features(sent, model):\n",
    "    # Get the word embeddings for each word in the sentence\n",
    "    embeddings = [model.wv[word] for word in sent if word in model.wv.key_to_index]\n",
    "    \n",
    "    if len(embeddings) == 0:\n",
    "        return np.zeros(model.vector_size + 2)\n",
    "    \n",
    "    embeddings = np.array(embeddings)\n",
    "    \n",
    "    # Calculate features\n",
    "    dispersion = np.std(embeddings, axis=0).mean()\n",
    "    length = len(sent)\n",
    "    avg_word_length = np.mean([len(word) for word in sent])\n",
    "    \n",
    "    return np.append(embeddings.mean(axis=0), [length, avg_word_length])\n",
    "\n",
    "# Calculate features for new training and test sentences\n",
    "X_new_train = np.array([sentence_features(sent, new_model) for sent in new_train_sents])\n",
    "X_new_test = np.array([sentence_features(sent, new_model) for sent in new_test_sents])\n",
    "\n",
    "# Calculate Flesch-Kincaid grade level for each sentence in the new training and test sets\n",
    "y_new_train = [flesch_kincaid_grade(' '.join(sent)) for sent in new_train_sents]\n",
    "y_new_test = [flesch_kincaid_grade(' '.join(sent)) for sent in new_test_sents]\n",
    "\n",
    "# Initialize a new Random Forest Regressor\n",
    "new_regressor = RandomForestRegressor(n_estimators=100, random_state=42)\n",
    "\n",
    "# Train the new model\n",
    "new_regressor.fit(X_new_train, y_new_train)\n",
    "\n",
    "# Make predictions on the training set\n",
    "y_new_train_pred = new_regressor.predict(X_new_train)\n",
    "\n",
    "# Compute errors for the training set\n",
    "mae_new_train = mean_absolute_error(y_new_train, y_new_train_pred)\n",
    "mse_new_train = mean_squared_error(y_new_train, y_new_train_pred)\n",
    "rmse_new_train = np.sqrt(mse_new_train)\n",
    "\n",
    "print(f\"New Training Mean Absolute Error: {mae_new_train}\")\n",
    "print(f\"New Training Mean Squared Error: {mse_new_train}\")\n",
    "print(f\"New Training Root Mean Squared Error: {rmse_new_train}\")\n",
    "\n",
    "\n",
    "# Make predictions on the new test set\n",
    "y_new_test_pred = new_regressor.predict(X_new_test)\n",
    "\n",
    "# Compute errors for the new test set\n",
    "mae_new_test = mean_absolute_error(y_new_test, y_new_test_pred)\n",
    "mse_new_test = mean_squared_error(y_new_test, y_new_test_pred)\n",
    "rmse_new_test = np.sqrt(mse_new_test)\n",
    "\n",
    "print(f\"New Test Mean Absolute Error: {mae_new_test}\")\n",
    "print(f\"New Test Mean Squared Error: {mse_new_test}\")\n",
    "print(f\"New Test Root Mean Squared Error: {rmse_new_test}\")\n"
   ]
  },
  {
   "cell_type": "code",
   "execution_count": 43,
   "id": "b4c08c00",
   "metadata": {},
   "outputs": [
    {
     "name": "stdout",
     "output_type": "stream",
     "text": [
      "R-squared for the new training set: 0.9784387144972274\n",
      "R-squared for the new test set: 0.7847296165023487\n"
     ]
    }
   ],
   "source": [
    "from sklearn.metrics import r2_score\n",
    "\n",
    "# Compute R-squared for the training set\n",
    "y_new_train_pred = new_regressor.predict(X_new_train)\n",
    "r2_new_train = r2_score(y_new_train, y_new_train_pred)\n",
    "\n",
    "print(f\"R-squared for the new training set: {r2_new_train}\")\n",
    "\n",
    "# Compute R-squared for the test set\n",
    "y_new_test_pred = new_regressor.predict(X_new_test)\n",
    "r2_new_test = r2_score(y_new_test, y_new_test_pred)\n",
    "\n",
    "print(f\"R-squared for the new test set: {r2_new_test}\")\n"
   ]
  },
  {
   "cell_type": "code",
   "execution_count": null,
   "id": "6b1c6a67",
   "metadata": {},
   "outputs": [],
   "source": []
  }
 ],
 "metadata": {
  "kernelspec": {
   "display_name": "Python 3 (ipykernel)",
   "language": "python",
   "name": "python3"
  },
  "language_info": {
   "codemirror_mode": {
    "name": "ipython",
    "version": 3
   },
   "file_extension": ".py",
   "mimetype": "text/x-python",
   "name": "python",
   "nbconvert_exporter": "python",
   "pygments_lexer": "ipython3",
   "version": "3.11.4"
  },
  "toc": {
   "base_numbering": 1,
   "nav_menu": {},
   "number_sections": true,
   "sideBar": true,
   "skip_h1_title": false,
   "title_cell": "Table of Contents",
   "title_sidebar": "Contents",
   "toc_cell": false,
   "toc_position": {},
   "toc_section_display": true,
   "toc_window_display": false
  }
 },
 "nbformat": 4,
 "nbformat_minor": 5
}
